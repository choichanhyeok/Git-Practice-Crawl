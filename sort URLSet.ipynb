{
 "cells": [
  {
   "cell_type": "code",
   "execution_count": 8,
   "metadata": {
    "scrolled": true
   },
   "outputs": [],
   "source": [
    "f = open(\"PostUrlSet2.txt\", 'a',encoding='UTF-8') # 파일 쓰기를 위한 f 변수 할당 #\n",
    "\n",
    "with open ('PostUrlSet.txt', 'r') as fr:\n",
    "    Post_list = []\n",
    "    for line in fr:\n",
    "        Post_list.append(line)\n",
    "    my_set = set(Post_list)\n",
    "    Post_Url_List = list(my_set)\n",
    "    f.write(''.join(Post_Url_List))"
   ]
  },
  {
   "cell_type": "code",
   "execution_count": null,
   "metadata": {},
   "outputs": [],
   "source": []
  }
 ],
 "metadata": {
  "kernelspec": {
   "display_name": "Python 3",
   "language": "python",
   "name": "python3"
  },
  "language_info": {
   "codemirror_mode": {
    "name": "ipython",
    "version": 3
   },
   "file_extension": ".py",
   "mimetype": "text/x-python",
   "name": "python",
   "nbconvert_exporter": "python",
   "pygments_lexer": "ipython3",
   "version": "3.8.3"
  }
 },
 "nbformat": 4,
 "nbformat_minor": 4
}
