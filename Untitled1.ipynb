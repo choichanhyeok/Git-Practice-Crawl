{
 "cells": [
  {
   "cell_type": "code",
   "execution_count": 1,
   "metadata": {
    "scrolled": true
   },
   "outputs": [
    {
     "data": {
      "text/plain": [
       "['아버지', '가', '방', '에', '들어가', '신다']"
      ]
     },
     "execution_count": 1,
     "metadata": {},
     "output_type": "execute_result"
    }
   ],
   "source": [
    "from konlpy.tag import Mecab \n",
    "\n",
    "\n",
    "mecab = Mecab(dicpath=r\"C:\\mecab\\mecab-ko-dic\")\n",
    "\n",
    "mecab.morphs(\"아버지가방에들어가신다\")\n",
    "\n",
    "TextData = []\n",
    "for line in f:\n",
    "    TextData.append(line)\n",
    "    \n",
    "word_dic = {}\n",
    "for line in TextData:\n",
    "    malist = okt.pos(line)\n",
    "    for taeso, pumsa in malist:\n",
    "        if pumsa == \"Noun\":\n",
    "            if not (taeso in word_dic):\n",
    "                word_dic[taeso] = 0\n",
    "            word_dic[taeso] += 1\n",
    "\n",
    "print (word_dic)"
   ]
  },
  {
   "cell_type": "code",
   "execution_count": null,
   "metadata": {},
   "outputs": [],
   "source": []
  }
 ],
 "metadata": {
  "kernelspec": {
   "display_name": "Python 3",
   "language": "python",
   "name": "python3"
  },
  "language_info": {
   "codemirror_mode": {
    "name": "ipython",
    "version": 3
   },
   "file_extension": ".py",
   "mimetype": "text/x-python",
   "name": "python",
   "nbconvert_exporter": "python",
   "pygments_lexer": "ipython3",
   "version": "3.7.0"
  }
 },
 "nbformat": 4,
 "nbformat_minor": 4
}
